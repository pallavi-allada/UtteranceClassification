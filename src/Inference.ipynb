{
  "nbformat": 4,
  "nbformat_minor": 0,
  "metadata": {
    "colab": {
      "name": "Inference.ipynb",
      "provenance": [],
      "authorship_tag": "ABX9TyNg7F0VRREJp+rM8bDqCc4J",
      "include_colab_link": true
    },
    "kernelspec": {
      "name": "python3",
      "display_name": "Python 3"
    },
    "language_info": {
      "name": "python"
    }
  },
  "cells": [
    {
      "cell_type": "markdown",
      "metadata": {
        "id": "view-in-github",
        "colab_type": "text"
      },
      "source": [
        "<a href=\"https://colab.research.google.com/github/pallavi-allada/UtteranceClassification/blob/main/src/Inference.ipynb\" target=\"_parent\"><img src=\"https://colab.research.google.com/assets/colab-badge.svg\" alt=\"Open In Colab\"/></a>"
      ]
    },
    {
      "cell_type": "markdown",
      "metadata": {
        "id": "iuXMcrYA9vwM"
      },
      "source": [
        "# Inference"
      ]
    },
    {
      "cell_type": "code",
      "metadata": {
        "colab": {
          "base_uri": "https://localhost:8080/"
        },
        "id": "q5qUWbvNpeYb",
        "outputId": "fa0cbc8c-2209-4c8a-f4d1-bfe3027b5a5e"
      },
      "source": [
        "from google.colab import drive\n",
        "drive.mount('/content/drive', force_remount=True)"
      ],
      "execution_count": 1,
      "outputs": [
        {
          "output_type": "stream",
          "text": [
            "Mounted at /content/drive\n"
          ],
          "name": "stdout"
        }
      ]
    },
    {
      "cell_type": "code",
      "metadata": {
        "id": "OYFMfZE-ptqz"
      },
      "source": [
        "import os\n",
        "import time\n",
        "import pickle\n",
        "import numpy as np\n",
        "import re\n",
        "import string\n",
        "\n",
        "import gensim\n",
        "from gensim.models import Word2Vec"
      ],
      "execution_count": 2,
      "outputs": []
    },
    {
      "cell_type": "code",
      "metadata": {
        "id": "8umpPlaOq2u4"
      },
      "source": [
        "ROOT_DIR = \"/content/drive/MyDrive/Colab Notebooks/Cognizer\"\n",
        "DATA_DIR = \"data\"\n",
        "MODEL_DIR = \"models\"\n",
        "\n",
        "WORD2VEC_BIN = \"GoogleNews-vectors-negative300.bin\""
      ],
      "execution_count": 3,
      "outputs": []
    },
    {
      "cell_type": "markdown",
      "metadata": {
        "id": "giI2qtGv911i"
      },
      "source": [
        "Class for inference\n",
        "Initialise the required models - pretrained word2vec and our trained model. By default, we are using KNN as our model of choice. We can change it during instantiating the UtteranceClassifier."
      ]
    },
    {
      "cell_type": "code",
      "metadata": {
        "id": "MVLD5dHavUlw"
      },
      "source": [
        "class UtteranceClassifier:\n",
        "\n",
        "  def __init__(self, num_features, classifier=\"KNN\"):\n",
        "    self.modeldict = {\"KNN\":\"knnpickle_file\",\n",
        "                      \"RandomForest\":\"rfpickle_file\",\n",
        "                      \"GradientBoosting\":\"gbpickle_file\"}\n",
        "    \n",
        "    model_file = self.modeldict[classifier]\n",
        "    print(model_file)\n",
        "    self.num_features = num_features\n",
        "    self.model = gensim.models.KeyedVectors.load_word2vec_format(os.path.join(ROOT_DIR,MODEL_DIR,WORD2VEC_BIN), binary=True, limit=500000)\n",
        "    self.loaded_model = pickle.load(open(os.path.join(ROOT_DIR,MODEL_DIR,model_file), 'rb'))\n",
        "\n",
        "  def clean(self,sentence):\n",
        "    words = [re.sub('[%s]' % re.escape(string.punctuation), '', word) for word in sentence.split()]\n",
        "    return [word for word in words if len(word)>0]\n",
        "\n",
        "  def word2vec_representation(self,doc_words):\n",
        "    word2vec_rep = np.zeros((1, self.num_features))\n",
        "    for word in doc_words: \n",
        "        try:\n",
        "            word2vec_rep+=self.model[word]\n",
        "        except:\n",
        "            word2vec_rep+=np.zeros((self.num_features))\n",
        "    return word2vec_rep\n",
        "\n",
        "  def gettag(self,sentence):\n",
        "    w2v1 = self.word2vec_representation(self.clean(sentence))\n",
        "    return self.loaded_model.predict(w2v1)\n",
        "    "
      ],
      "execution_count": 14,
      "outputs": []
    },
    {
      "cell_type": "code",
      "metadata": {
        "id": "vdOlzXv54_hm"
      },
      "source": [
        "#convert label to tag\n",
        "def label2tag(lbl):\n",
        "  return (\"Contract\" if lbl == 0 else (\"Email\" if lbl == 1 else (\"Calendar\" if lbl == 2 else (\"Contact\" if lbl == 3 else (\"Document\" if lbl == 4 else (\"Employee\" if lbl == 5 else \"Keyword\"))))))\n"
      ],
      "execution_count": 15,
      "outputs": []
    },
    {
      "cell_type": "markdown",
      "metadata": {
        "id": "MoPPdbE--uMr"
      },
      "source": [
        "Change the classifier string to \"KNN\" or \"RandomForest\" or \"GradientBoosting\" to load those models. By default it is KNN."
      ]
    },
    {
      "cell_type": "code",
      "metadata": {
        "colab": {
          "base_uri": "https://localhost:8080/"
        },
        "id": "RQuB2Mtv3yil",
        "outputId": "18409d0b-b719-4c7f-905e-bcf3a908117d"
      },
      "source": [
        "classifier = UtteranceClassifier(num_features = 300, classifier = \"KNN\")"
      ],
      "execution_count": 16,
      "outputs": [
        {
          "output_type": "stream",
          "text": [
            "knnpickle_file\n"
          ],
          "name": "stdout"
        }
      ]
    },
    {
      "cell_type": "code",
      "metadata": {
        "colab": {
          "base_uri": "https://localhost:8080/"
        },
        "id": "VyR-FE532aCn",
        "outputId": "f07ea23b-1f9f-42f1-ca7c-4b58146cb9bd"
      },
      "source": [
        "sentence = \"show me all e-mail address of Pallavi\"\n",
        "print(\"User text is-----\", sentence)\n",
        "start_time = time.time()\n",
        "prediction = classifier.gettag(sentence)\n",
        "print(\"Tag is-----\", label2tag(prediction))\n",
        "print(\"Inference time----- %s seconds ---\" % (time.time() - start_time))"
      ],
      "execution_count": null,
      "outputs": [
        {
          "output_type": "stream",
          "text": [
            "User text is----- show me all e-mail address of Pallavi\n",
            "Tag is----- Contact\n",
            "Inference time----- 0.010127782821655273 seconds ---\n"
          ],
          "name": "stdout"
        }
      ]
    },
    {
      "cell_type": "code",
      "metadata": {
        "id": "jH5PmFEyEqg7"
      },
      "source": [
        ""
      ],
      "execution_count": null,
      "outputs": []
    }
  ]
}